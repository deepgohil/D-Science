{
  "nbformat": 4,
  "nbformat_minor": 0,
  "metadata": {
    "colab": {
      "name": "classone.ipynb",
      "provenance": [],
      "collapsed_sections": [],
      "toc_visible": true,
      "authorship_tag": "ABX9TyMeae6V/7OE3H3Jdt1cP50d",
      "include_colab_link": true
    },
    "kernelspec": {
      "name": "python3",
      "display_name": "Python 3"
    },
    "language_info": {
      "name": "python"
    }
  },
  "cells": [
    {
      "cell_type": "markdown",
      "metadata": {
        "id": "view-in-github",
        "colab_type": "text"
      },
      "source": [
        "<a href=\"https://colab.research.google.com/github/deepgohil/D-Science/blob/main/classone.ipynb\" target=\"_parent\"><img src=\"https://colab.research.google.com/assets/colab-badge.svg\" alt=\"Open In Colab\"/></a>"
      ]
    },
    {
      "cell_type": "code",
      "execution_count": null,
      "metadata": {
        "colab": {
          "base_uri": "https://localhost:8080/"
        },
        "id": "9rVvlfspc7rX",
        "outputId": "8e0e4d9d-e92c-45c0-b51a-f02f3aee96a3"
      },
      "outputs": [
        {
          "output_type": "stream",
          "name": "stdout",
          "text": [
            "helllo world\n"
          ]
        }
      ],
      "source": [
        "print(\"helllo world\")"
      ]
    },
    {
      "cell_type": "code",
      "source": [
        "num=10\n",
        "num"
      ],
      "metadata": {
        "colab": {
          "base_uri": "https://localhost:8080/"
        },
        "id": "ptvF8iewdAWd",
        "outputId": "b79fdcbb-6973-48c8-c1fd-eee0371affa0"
      },
      "execution_count": null,
      "outputs": [
        {
          "output_type": "execute_result",
          "data": {
            "text/plain": [
              "10"
            ]
          },
          "metadata": {},
          "execution_count": 2
        }
      ]
    },
    {
      "cell_type": "code",
      "source": [
        "string=\"hello\"\n",
        "string"
      ],
      "metadata": {
        "colab": {
          "base_uri": "https://localhost:8080/",
          "height": 35
        },
        "id": "O8gLinPKdkCg",
        "outputId": "93817e1f-c804-4714-da00-1ae2fb46e7cf"
      },
      "execution_count": null,
      "outputs": [
        {
          "output_type": "execute_result",
          "data": {
            "application/vnd.google.colaboratory.intrinsic+json": {
              "type": "string"
            },
            "text/plain": [
              "'hello'"
            ]
          },
          "metadata": {},
          "execution_count": 3
        }
      ]
    },
    {
      "cell_type": "code",
      "source": [
        "type(string)"
      ],
      "metadata": {
        "colab": {
          "base_uri": "https://localhost:8080/"
        },
        "id": "uD7g_HRRdpS7",
        "outputId": "4575fa75-cfe5-4451-d5b9-15f561ebe486"
      },
      "execution_count": null,
      "outputs": [
        {
          "output_type": "execute_result",
          "data": {
            "text/plain": [
              "str"
            ]
          },
          "metadata": {},
          "execution_count": 4
        }
      ]
    },
    {
      "cell_type": "code",
      "source": [
        "fnumber=1.26\n",
        "fnumber"
      ],
      "metadata": {
        "colab": {
          "base_uri": "https://localhost:8080/"
        },
        "id": "WDazLuJ5eQHn",
        "outputId": "6f29608a-b0ef-4dbf-8504-9ca431fe750b"
      },
      "execution_count": null,
      "outputs": [
        {
          "output_type": "execute_result",
          "data": {
            "text/plain": [
              "1.26"
            ]
          },
          "metadata": {},
          "execution_count": 7
        }
      ]
    },
    {
      "cell_type": "code",
      "source": [
        "print(type(num))"
      ],
      "metadata": {
        "colab": {
          "base_uri": "https://localhost:8080/"
        },
        "id": "Q0dX6mJrdsib",
        "outputId": "93f6ccc5-dcce-4881-a6db-584cca8a772e"
      },
      "execution_count": null,
      "outputs": [
        {
          "output_type": "stream",
          "name": "stdout",
          "text": [
            "<class 'int'>\n"
          ]
        }
      ]
    },
    {
      "cell_type": "code",
      "source": [
        "print(type(string),type(num))"
      ],
      "metadata": {
        "colab": {
          "base_uri": "https://localhost:8080/"
        },
        "id": "UBBUOemidxsh",
        "outputId": "8b4568d4-e0a3-474d-fb76-3da115badc39"
      },
      "execution_count": null,
      "outputs": [
        {
          "output_type": "stream",
          "name": "stdout",
          "text": [
            "<class 'str'> <class 'int'>\n"
          ]
        }
      ]
    },
    {
      "cell_type": "code",
      "source": [
        "a,b,c=10,20,30\n",
        "print(a,\" \",b,\" \",c)"
      ],
      "metadata": {
        "colab": {
          "base_uri": "https://localhost:8080/"
        },
        "id": "YUSf1TmAeFhM",
        "outputId": "86320736-9e6e-421b-ae71-3a383a9343fe"
      },
      "execution_count": null,
      "outputs": [
        {
          "output_type": "stream",
          "name": "stdout",
          "text": [
            "10   20   30\n"
          ]
        }
      ]
    },
    {
      "cell_type": "code",
      "source": [
        ""
      ],
      "metadata": {
        "colab": {
          "base_uri": "https://localhost:8080/",
          "height": 165
        },
        "id": "kQlY_UFxeqFH",
        "outputId": "d4b31496-846e-43fa-b10e-9b9fd5ec75bf"
      },
      "execution_count": null,
      "outputs": [
        {
          "output_type": "error",
          "ename": "TypeError",
          "evalue": "ignored",
          "traceback": [
            "\u001b[0;31m---------------------------------------------------------------------------\u001b[0m",
            "\u001b[0;31mTypeError\u001b[0m                                 Traceback (most recent call last)",
            "\u001b[0;32m<ipython-input-10-f690b415d2ae>\u001b[0m in \u001b[0;36m<module>\u001b[0;34m()\u001b[0m\n\u001b[0;32m----> 1\u001b[0;31m \u001b[0mx\u001b[0m\u001b[0;34m,\u001b[0m\u001b[0my\u001b[0m\u001b[0;34m,\u001b[0m\u001b[0mz\u001b[0m\u001b[0;34m=\u001b[0m\u001b[0;36m10\u001b[0m\u001b[0;34m\u001b[0m\u001b[0;34m\u001b[0m\u001b[0m\n\u001b[0m",
            "\u001b[0;31mTypeError\u001b[0m: cannot unpack non-iterable int object"
          ]
        }
      ]
    },
    {
      "cell_type": "code",
      "source": [
        "x=y=z=10"
      ],
      "metadata": {
        "id": "-WEIH3Lfe4kU"
      },
      "execution_count": null,
      "outputs": []
    },
    {
      "cell_type": "code",
      "source": [
        "x\n",
        "y\n",
        "z\n"
      ],
      "metadata": {
        "colab": {
          "base_uri": "https://localhost:8080/"
        },
        "id": "dd_EqI99e8yR",
        "outputId": "cdd1c5c7-9292-41cf-c175-4e2896b50200"
      },
      "execution_count": null,
      "outputs": [
        {
          "output_type": "execute_result",
          "data": {
            "text/plain": [
              "10"
            ]
          },
          "metadata": {},
          "execution_count": 12
        }
      ]
    },
    {
      "cell_type": "code",
      "source": [
        "import keyword\n",
        "print(keyword.kwlist)"
      ],
      "metadata": {
        "colab": {
          "base_uri": "https://localhost:8080/"
        },
        "id": "wssPX4ahfKAh",
        "outputId": "bfe4ca8c-7682-4794-cb7c-ddcb511b4fde"
      },
      "execution_count": null,
      "outputs": [
        {
          "output_type": "stream",
          "name": "stdout",
          "text": [
            "['False', 'None', 'True', 'and', 'as', 'assert', 'async', 'await', 'break', 'class', 'continue', 'def', 'del', 'elif', 'else', 'except', 'finally', 'for', 'from', 'global', 'if', 'import', 'in', 'is', 'lambda', 'nonlocal', 'not', 'or', 'pass', 'raise', 'return', 'try', 'while', 'with', 'yield']\n"
          ]
        }
      ]
    },
    {
      "cell_type": "markdown",
      "source": [
        "##Numbers\n"
      ],
      "metadata": {
        "id": "mUGp7rWghReJ"
      }
    },
    {
      "cell_type": "code",
      "source": [
        "num1=100\n",
        "numtwo=2.3\n",
        "numthree=5+6j\n",
        "print(type(num1),type(numtwo),type(numthree))"
      ],
      "metadata": {
        "colab": {
          "base_uri": "https://localhost:8080/"
        },
        "id": "F2KXg4OChTwA",
        "outputId": "aed154b9-65a6-4563-90d9-7dd9a456a4ae"
      },
      "execution_count": null,
      "outputs": [
        {
          "output_type": "stream",
          "name": "stdout",
          "text": [
            "<class 'int'> <class 'float'> <class 'complex'>\n"
          ]
        }
      ]
    },
    {
      "cell_type": "markdown",
      "source": [
        "##String\n",
        "##imutable\n"
      ],
      "metadata": {
        "id": "io4tubTeiCvG"
      }
    },
    {
      "cell_type": "code",
      "source": [
        "str=\"Deepcoding\"\n",
        "print(str[0])\n",
        "str[0]=\"ok\"\n"
      ],
      "metadata": {
        "colab": {
          "base_uri": "https://localhost:8080/",
          "height": 217
        },
        "id": "SqDW-ocWhm8S",
        "outputId": "b127a4b6-da5c-4e18-d9ae-b998d0c4a9f0"
      },
      "execution_count": null,
      "outputs": [
        {
          "output_type": "stream",
          "name": "stdout",
          "text": [
            "D\n"
          ]
        },
        {
          "output_type": "error",
          "ename": "TypeError",
          "evalue": "ignored",
          "traceback": [
            "\u001b[0;31m---------------------------------------------------------------------------\u001b[0m",
            "\u001b[0;31mTypeError\u001b[0m                                 Traceback (most recent call last)",
            "\u001b[0;32m<ipython-input-18-fd759d3dd3bb>\u001b[0m in \u001b[0;36m<module>\u001b[0;34m()\u001b[0m\n\u001b[1;32m      1\u001b[0m \u001b[0mstr\u001b[0m\u001b[0;34m=\u001b[0m\u001b[0;34m\"Deepcoding\"\u001b[0m\u001b[0;34m\u001b[0m\u001b[0;34m\u001b[0m\u001b[0m\n\u001b[1;32m      2\u001b[0m \u001b[0mprint\u001b[0m\u001b[0;34m(\u001b[0m\u001b[0mstr\u001b[0m\u001b[0;34m[\u001b[0m\u001b[0;36m0\u001b[0m\u001b[0;34m]\u001b[0m\u001b[0;34m)\u001b[0m\u001b[0;34m\u001b[0m\u001b[0;34m\u001b[0m\u001b[0m\n\u001b[0;32m----> 3\u001b[0;31m \u001b[0mstr\u001b[0m\u001b[0;34m[\u001b[0m\u001b[0;36m0\u001b[0m\u001b[0;34m]\u001b[0m\u001b[0;34m=\u001b[0m\u001b[0;34m\"ok\"\u001b[0m\u001b[0;34m\u001b[0m\u001b[0;34m\u001b[0m\u001b[0m\n\u001b[0m",
            "\u001b[0;31mTypeError\u001b[0m: 'str' object does not support item assignment"
          ]
        }
      ]
    },
    {
      "cell_type": "code",
      "source": [
        "\n",
        "#//https://www.hackerrank.com/challenges/py-if-else/problem?isFullScreen=true\n",
        "n=143\n",
        "if(n%2==0):\n",
        "  if(n>2 and n<5):\n",
        "    print(\"Not Weird\")\n",
        "  elif(n>6 and n<20):\n",
        "    print(\"Weird\")\n",
        "  elif(n>20):\n",
        "    print(\"Not Weird\")\n",
        "else:\n",
        "  print(\"Weird\")"
      ],
      "metadata": {
        "colab": {
          "base_uri": "https://localhost:8080/"
        },
        "id": "ki01WLymiJ8l",
        "outputId": "61192acf-9a2e-4f41-a9ba-ff5af4b33828"
      },
      "execution_count": null,
      "outputs": [
        {
          "output_type": "stream",
          "name": "stdout",
          "text": [
            "Weird\n"
          ]
        }
      ]
    },
    {
      "cell_type": "code",
      "source": [
        ""
      ],
      "metadata": {
        "id": "8fTdUWxZLl9q"
      },
      "execution_count": null,
      "outputs": []
    },
    {
      "cell_type": "code",
      "source": [
        "#///////////////prime number\n",
        "i=int(input())\n",
        "flag=\"prime\"\n",
        "start=2\n",
        "while(start*start<=i):\n",
        "  if(i%start==0):\n",
        "    flag=\"composite\"\n",
        "  start+=1\n",
        "print(flag)"
      ],
      "metadata": {
        "colab": {
          "base_uri": "https://localhost:8080/"
        },
        "id": "a9djvOLTzuCZ",
        "outputId": "eff98bf0-860e-4520-8e99-a460f7791530"
      },
      "execution_count": null,
      "outputs": [
        {
          "output_type": "stream",
          "name": "stdout",
          "text": [
            "13\n",
            "prime\n"
          ]
        }
      ]
    },
    {
      "cell_type": "markdown",
      "source": [
        "##\n",
        "VAR[START,END,SKIP]  var[INCLUDE:EXCLUDE:SKIP]\n"
      ],
      "metadata": {
        "id": "dLT5QdNsml_6"
      }
    },
    {
      "cell_type": "code",
      "source": [
        "#####################fibbo series\n",
        "i=int(input())\n",
        "a,b,c=0,1,0\n",
        "while(i):\n",
        "  print(a)\n",
        "  c=a+b\n",
        "  a=b\n",
        "  b=c\n",
        "  i-=1\n",
        "\n"
      ],
      "metadata": {
        "colab": {
          "base_uri": "https://localhost:8080/"
        },
        "id": "0BA1_Y1J082x",
        "outputId": "00137f0a-0270-40b6-b18d-8eb9614b12a5"
      },
      "execution_count": null,
      "outputs": [
        {
          "output_type": "stream",
          "name": "stdout",
          "text": [
            "6\n",
            "0\n",
            "1\n",
            "1\n",
            "2\n",
            "3\n",
            "5\n"
          ]
        }
      ]
    },
    {
      "cell_type": "code",
      "source": [
        "####################digits in number\n",
        "i=int(input())\n",
        "digit=0\n",
        "while(i>=1):\n",
        "  i=i/10\n",
        "  digit+=1\n",
        "print(digit)\n"
      ],
      "metadata": {
        "colab": {
          "base_uri": "https://localhost:8080/"
        },
        "id": "y36Ib8-y2FDL",
        "outputId": "f67b759b-16e4-43c9-b9f6-092801ba35ad"
      },
      "execution_count": null,
      "outputs": [
        {
          "output_type": "stream",
          "name": "stdout",
          "text": [
            "378\n",
            "3\n"
          ]
        }
      ]
    },
    {
      "cell_type": "markdown",
      "source": [
        ""
      ],
      "metadata": {
        "id": "7JndSCahmx9F"
      }
    },
    {
      "cell_type": "code",
      "source": [
        "str=\"Deepcodin\"\n",
        "str[::-1]\n"
      ],
      "metadata": {
        "colab": {
          "base_uri": "https://localhost:8080/",
          "height": 35
        },
        "id": "Xp6L_t8nm4Fv",
        "outputId": "eb47b9b4-0a0c-4649-9e01-1b139ac67c8e"
      },
      "execution_count": null,
      "outputs": [
        {
          "output_type": "execute_result",
          "data": {
            "application/vnd.google.colaboratory.intrinsic+json": {
              "type": "string"
            },
            "text/plain": [
              "'nidocpeeD'"
            ]
          },
          "metadata": {},
          "execution_count": 28
        }
      ]
    },
    {
      "cell_type": "code",
      "source": [
        "# 9 8 7 6 5 4 3 2 1 (-) lagadi de je ha aagad\n",
        "# D e e p c o d i n\n",
        "# 1 2 3 4 5 6 7 8 9\n",
        "\n",
        "str[-3:-7:-1]"
      ],
      "metadata": {
        "colab": {
          "base_uri": "https://localhost:8080/",
          "height": 35
        },
        "id": "zTLImuwhpTjV",
        "outputId": "eb7d3195-36ab-4057-9967-6dbe69b24035"
      },
      "execution_count": null,
      "outputs": [
        {
          "output_type": "execute_result",
          "data": {
            "application/vnd.google.colaboratory.intrinsic+json": {
              "type": "string"
            },
            "text/plain": [
              "'docp'"
            ]
          },
          "metadata": {},
          "execution_count": 29
        }
      ]
    },
    {
      "cell_type": "code",
      "source": [
        "for i in str:\n",
        "  print(i,end=\" \")"
      ],
      "metadata": {
        "colab": {
          "base_uri": "https://localhost:8080/"
        },
        "id": "XF4wyUgJpyzO",
        "outputId": "5ffb2990-c479-4f5e-c296-73c0dd1f2f47"
      },
      "execution_count": null,
      "outputs": [
        {
          "output_type": "stream",
          "name": "stdout",
          "text": [
            "D e e p c o d i n "
          ]
        }
      ]
    },
    {
      "cell_type": "code",
      "source": [
        "for i in range(6):\n",
        "  \n",
        "  if i==1:\n",
        "    break\n",
        "  print(i)\n"
      ],
      "metadata": {
        "colab": {
          "base_uri": "https://localhost:8080/"
        },
        "id": "-r2ADvE6uZwW",
        "outputId": "7de11468-02a6-4b60-c689-ae0deedb02b7"
      },
      "execution_count": null,
      "outputs": [
        {
          "output_type": "stream",
          "name": "stdout",
          "text": [
            "0\n"
          ]
        }
      ]
    },
    {
      "cell_type": "code",
      "source": [
        "for i in range(6):\n",
        "  if i==1:\n",
        "    continue\n",
        "  print(i)"
      ],
      "metadata": {
        "colab": {
          "base_uri": "https://localhost:8080/"
        },
        "id": "D7PWtTgVxXny",
        "outputId": "fcf38ca6-b64c-4060-9c8c-8b161f825f70"
      },
      "execution_count": null,
      "outputs": [
        {
          "output_type": "stream",
          "name": "stdout",
          "text": [
            "0\n",
            "2\n",
            "3\n",
            "4\n",
            "5\n"
          ]
        }
      ]
    },
    {
      "cell_type": "markdown",
      "source": [
        "##tuple\n",
        "##Tuple ( )\n",
        "##->Heterogeneous possible\n",
        "##->Immutable\n",
        "##->scriptable\n"
      ],
      "metadata": {
        "id": "M26-65s_7C0t"
      }
    },
    {
      "cell_type": "code",
      "source": [
        "\n",
        "\n",
        "t={1,2,3,4,56}\n",
        "list=[1,3,2,6,{1,2,3,4}]\n",
        "print(list)"
      ],
      "metadata": {
        "colab": {
          "base_uri": "https://localhost:8080/"
        },
        "id": "pIUXV0R869y7",
        "outputId": "d2a6c28c-3d0f-434c-faef-94ee213b7479"
      },
      "execution_count": null,
      "outputs": [
        {
          "output_type": "stream",
          "name": "stdout",
          "text": [
            "[1, 3, 2, 6, {1, 2, 3, 4}]\n"
          ]
        }
      ]
    },
    {
      "cell_type": "markdown",
      "source": [
        "#dict\n",
        "#ordered\n",
        "#no duplicate\n",
        "#mutable\n",
        "#indexed"
      ],
      "metadata": {
        "id": "7BhzhZe98tgI"
      }
    },
    {
      "cell_type": "code",
      "source": [
        "info={\n",
        "    \"name\":\"Deep\",\n",
        "    \"age\":\"17\",\n",
        "    \"location\":\"mumbai\",\n",
        "    \"name\":\"Deep\",\n",
        "    \"age\":\"17\",\n",
        "    \"location\":\"mumbai\",\n",
        "    \"education\":[\"svp\",\"gp mumbai\"]\n",
        "}\n",
        "#value based indexing\n",
        "info[\"education\"][0]"
      ],
      "metadata": {
        "colab": {
          "base_uri": "https://localhost:8080/",
          "height": 35
        },
        "id": "81691THN8unf",
        "outputId": "b7ea64b1-21bf-403c-c027-cd6acb37906b"
      },
      "execution_count": null,
      "outputs": [
        {
          "output_type": "execute_result",
          "data": {
            "application/vnd.google.colaboratory.intrinsic+json": {
              "type": "string"
            },
            "text/plain": [
              "'svp'"
            ]
          },
          "metadata": {},
          "execution_count": 10
        }
      ]
    },
    {
      "cell_type": "code",
      "source": [
        "info.keys()\n"
      ],
      "metadata": {
        "colab": {
          "base_uri": "https://localhost:8080/"
        },
        "id": "PUx86SsR_oH1",
        "outputId": "ee4a8041-a343-4a39-c4c1-25e0d34ae180"
      },
      "execution_count": null,
      "outputs": [
        {
          "output_type": "execute_result",
          "data": {
            "text/plain": [
              "dict_keys(['name', 'age', 'location', 'education'])"
            ]
          },
          "metadata": {},
          "execution_count": 13
        }
      ]
    },
    {
      "cell_type": "markdown",
      "source": [
        ""
      ],
      "metadata": {
        "id": "oJEm3KJS7Bsp"
      }
    },
    {
      "cell_type": "code",
      "source": [
        "for i in info.values():\n",
        "  print(i)"
      ],
      "metadata": {
        "colab": {
          "base_uri": "https://localhost:8080/"
        },
        "id": "dv0UscBY_ugG",
        "outputId": "0a0f7907-1365-45d5-ae70-da64b9edffcb"
      },
      "execution_count": null,
      "outputs": [
        {
          "output_type": "stream",
          "name": "stdout",
          "text": [
            "Deep\n",
            "17\n",
            "mumbai\n",
            "['svp', 'gp mumbai']\n"
          ]
        }
      ]
    },
    {
      "cell_type": "code",
      "source": [
        "for i in info.keys():\n",
        "  print(i)"
      ],
      "metadata": {
        "colab": {
          "base_uri": "https://localhost:8080/"
        },
        "id": "2Ot_3b3j_067",
        "outputId": "9c2b817c-3f9b-4c81-f9f5-393563e3f2b3"
      },
      "execution_count": null,
      "outputs": [
        {
          "output_type": "stream",
          "name": "stdout",
          "text": [
            "name\n",
            "age\n",
            "location\n",
            "education\n"
          ]
        }
      ]
    },
    {
      "cell_type": "code",
      "source": [
        "for i,j in info.items():\n",
        "  print(i,j)"
      ],
      "metadata": {
        "colab": {
          "base_uri": "https://localhost:8080/"
        },
        "id": "nFvD6Vac_-3R",
        "outputId": "53e0cef4-afaf-4e21-cc94-b1ce7b072ff5"
      },
      "execution_count": null,
      "outputs": [
        {
          "output_type": "stream",
          "name": "stdout",
          "text": [
            "name Deep\n",
            "age 17\n",
            "location mumbai\n",
            "education ['svp', 'gp mumbai']\n"
          ]
        }
      ]
    },
    {
      "cell_type": "code",
      "source": [
        "for i in info:\n",
        "  print(i[0],j[1])"
      ],
      "metadata": {
        "colab": {
          "base_uri": "https://localhost:8080/"
        },
        "id": "OL9W-3KxAG3y",
        "outputId": "8caab45f-0d67-44d9-d8ea-befb427b3d0f"
      },
      "execution_count": null,
      "outputs": [
        {
          "output_type": "stream",
          "name": "stdout",
          "text": [
            "n gp mumbai\n",
            "a gp mumbai\n",
            "l gp mumbai\n",
            "e gp mumbai\n"
          ]
        }
      ]
    },
    {
      "cell_type": "code",
      "source": [
        "mydict={}\n",
        "for i in range(1,6):\n",
        "  mydict[i]=i*i\n",
        "\n",
        "mydict"
      ],
      "metadata": {
        "colab": {
          "base_uri": "https://localhost:8080/"
        },
        "id": "1UPNiAM6Au6o",
        "outputId": "cb556128-836b-418b-9db8-11ff1c85cbab"
      },
      "execution_count": null,
      "outputs": [
        {
          "output_type": "execute_result",
          "data": {
            "text/plain": [
              "{1: 1, 2: 4, 3: 9, 4: 16, 5: 25}"
            ]
          },
          "metadata": {},
          "execution_count": 29
        }
      ]
    },
    {
      "cell_type": "code",
      "source": [
        "  ksum=0\n",
        "  vsum=0\n",
        "  k=0\n",
        "  for i,j in mydict.items():\n",
        "    ksum=i+ksum\n",
        "    vsum=j+vsum\n",
        "    k+=1\n",
        "  print(ksum)\n",
        "  print(vsum)"
      ],
      "metadata": {
        "colab": {
          "base_uri": "https://localhost:8080/"
        },
        "id": "Ihk3cBBYB-jg",
        "outputId": "c825fee5-de91-402b-9891-4c366837e313"
      },
      "execution_count": null,
      "outputs": [
        {
          "output_type": "stream",
          "name": "stdout",
          "text": [
            "15\n",
            "55\n"
          ]
        }
      ]
    },
    {
      "cell_type": "code",
      "source": [
        "ans=sum(mydict.values())\n",
        "ans"
      ],
      "metadata": {
        "colab": {
          "base_uri": "https://localhost:8080/"
        },
        "id": "jkgEjEFKDPwO",
        "outputId": "633a65a4-f98c-40c1-b2cf-a56db33880d2"
      },
      "execution_count": null,
      "outputs": [
        {
          "output_type": "execute_result",
          "data": {
            "text/plain": [
              "55"
            ]
          },
          "metadata": {},
          "execution_count": 37
        }
      ]
    },
    {
      "cell_type": "code",
      "source": [
        "#oops\n",
        "class baap:\n",
        "  def __init__(self,age):\n",
        "    self.age=age\n",
        "\n",
        "    "
      ],
      "metadata": {
        "id": "G49UsEOAFxQ2"
      },
      "execution_count": null,
      "outputs": []
    }
  ]
}