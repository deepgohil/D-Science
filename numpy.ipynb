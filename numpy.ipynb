{
  "nbformat": 4,
  "nbformat_minor": 0,
  "metadata": {
    "colab": {
      "name": "numpy.ipynb",
      "provenance": [],
      "collapsed_sections": [],
      "authorship_tag": "ABX9TyOAicrJCTdvxLTzhlnDAHu4",
      "include_colab_link": true
    },
    "kernelspec": {
      "name": "python3",
      "display_name": "Python 3"
    },
    "language_info": {
      "name": "python"
    }
  },
  "cells": [
    {
      "cell_type": "markdown",
      "metadata": {
        "id": "view-in-github",
        "colab_type": "text"
      },
      "source": [
        "<a href=\"https://colab.research.google.com/github/deepgohil/D-Science/blob/main/numpy.ipynb\" target=\"_parent\"><img src=\"https://colab.research.google.com/assets/colab-badge.svg\" alt=\"Open In Colab\"/></a>"
      ]
    },
    {
      "cell_type": "code",
      "execution_count": 1,
      "metadata": {
        "id": "0NxE4opwNCLf"
      },
      "outputs": [],
      "source": [
        "import numpy as np"
      ]
    },
    {
      "cell_type": "code",
      "source": [
        "arr=np.array([1,2,3,4,5,6,7])\n",
        "arr"
      ],
      "metadata": {
        "colab": {
          "base_uri": "https://localhost:8080/"
        },
        "id": "aADAv8haQ7wR",
        "outputId": "654d72c3-0f8a-4854-a92d-e9a42e777ecd"
      },
      "execution_count": 2,
      "outputs": [
        {
          "output_type": "execute_result",
          "data": {
            "text/plain": [
              "array([1, 2, 3, 4, 5, 6, 7])"
            ]
          },
          "metadata": {},
          "execution_count": 2
        }
      ]
    },
    {
      "cell_type": "code",
      "source": [
        "type(arr)"
      ],
      "metadata": {
        "colab": {
          "base_uri": "https://localhost:8080/"
        },
        "id": "CvIKcyWJRBeI",
        "outputId": "9405c487-59d0-48e6-eed9-c61ea643e4c1"
      },
      "execution_count": 3,
      "outputs": [
        {
          "output_type": "execute_result",
          "data": {
            "text/plain": [
              "numpy.ndarray"
            ]
          },
          "metadata": {},
          "execution_count": 3
        }
      ]
    },
    {
      "cell_type": "code",
      "source": [
        "arr.ndim"
      ],
      "metadata": {
        "colab": {
          "base_uri": "https://localhost:8080/"
        },
        "id": "0Lra11b2RFCO",
        "outputId": "2604306f-99ef-45c9-b0c4-870c8822b3fd"
      },
      "execution_count": 4,
      "outputs": [
        {
          "output_type": "execute_result",
          "data": {
            "text/plain": [
              "1"
            ]
          },
          "metadata": {},
          "execution_count": 4
        }
      ]
    },
    {
      "cell_type": "code",
      "source": [
        "arr=np.array([1,2,3,4,5,6,7],\"uint64\")"
      ],
      "metadata": {
        "id": "2FrmVqEpRbHd"
      },
      "execution_count": 6,
      "outputs": []
    },
    {
      "cell_type": "code",
      "source": [
        "arr.dtype\n",
        "#data type of array"
      ],
      "metadata": {
        "colab": {
          "base_uri": "https://localhost:8080/"
        },
        "id": "Lamy5GneRhcH",
        "outputId": "eee3fd28-3db4-41bc-91b8-f8d36eb616fd"
      },
      "execution_count": 7,
      "outputs": [
        {
          "output_type": "execute_result",
          "data": {
            "text/plain": [
              "dtype('uint64')"
            ]
          },
          "metadata": {},
          "execution_count": 7
        }
      ]
    },
    {
      "cell_type": "markdown",
      "source": [
        ""
      ],
      "metadata": {
        "id": "70vDmqwwZZLs"
      }
    },
    {
      "cell_type": "code",
      "source": [
        "arr=np.ones(10000,dtype=\"uint64\")"
      ],
      "metadata": {
        "id": "kkKlZecPSGWO"
      },
      "execution_count": 8,
      "outputs": []
    },
    {
      "cell_type": "code",
      "source": [
        "lst = [1]*10000"
      ],
      "metadata": {
        "id": "-0e9aUXoRtV0"
      },
      "execution_count": 9,
      "outputs": []
    },
    {
      "cell_type": "code",
      "source": [
        ""
      ],
      "metadata": {
        "id": "QOlkSmITSUVY"
      },
      "execution_count": null,
      "outputs": []
    },
    {
      "cell_type": "markdown",
      "source": [
        "#time\n"
      ],
      "metadata": {
        "id": "F1A2h2NzSWFF"
      }
    },
    {
      "cell_type": "code",
      "source": [
        "%timeit sum(lst)"
      ],
      "metadata": {
        "colab": {
          "base_uri": "https://localhost:8080/"
        },
        "id": "Vwil6A6oSZud",
        "outputId": "fd0b4f0f-14d6-46af-eccb-346c22dd5670"
      },
      "execution_count": 10,
      "outputs": [
        {
          "output_type": "stream",
          "name": "stdout",
          "text": [
            "10000 loops, best of 5: 74 µs per loop\n"
          ]
        }
      ]
    },
    {
      "cell_type": "code",
      "source": [
        "%timeit arr.sum()"
      ],
      "metadata": {
        "colab": {
          "base_uri": "https://localhost:8080/"
        },
        "id": "NhTzYrweSdnw",
        "outputId": "7bded758-caa3-4f28-adbf-c0b9b3700b29"
      },
      "execution_count": 11,
      "outputs": [
        {
          "output_type": "stream",
          "name": "stdout",
          "text": [
            "The slowest run took 9.85 times longer than the fastest. This could mean that an intermediate result is being cached.\n",
            "100000 loops, best of 5: 9.78 µs per loop\n"
          ]
        }
      ]
    },
    {
      "cell_type": "code",
      "source": [
        "%timeit sum(arr)\n",
        "#python no function call"
      ],
      "metadata": {
        "colab": {
          "base_uri": "https://localhost:8080/"
        },
        "id": "_mhfTY5eSidi",
        "outputId": "0f5d3456-d523-4f15-f4c4-0fe10ba2c7f5"
      },
      "execution_count": 12,
      "outputs": [
        {
          "output_type": "stream",
          "name": "stdout",
          "text": [
            "100 loops, best of 5: 2.31 ms per loop\n"
          ]
        }
      ]
    },
    {
      "cell_type": "code",
      "source": [
        ""
      ],
      "metadata": {
        "id": "W6ec0nhPSvlz"
      },
      "execution_count": null,
      "outputs": []
    },
    {
      "cell_type": "markdown",
      "source": [
        "slicing\n"
      ],
      "metadata": {
        "id": "WqXtjLnyZaVk"
      }
    },
    {
      "cell_type": "code",
      "source": [
        "arr = np.arange(5,25,2)"
      ],
      "metadata": {
        "id": "1yoYl35vZbfq"
      },
      "execution_count": 13,
      "outputs": []
    },
    {
      "cell_type": "code",
      "source": [
        "print(arr)\n",
        "arr[2:5]"
      ],
      "metadata": {
        "colab": {
          "base_uri": "https://localhost:8080/"
        },
        "id": "PriF-6I6Zb7o",
        "outputId": "129d646b-ee60-4029-bf39-0db76792fd2e"
      },
      "execution_count": 14,
      "outputs": [
        {
          "output_type": "stream",
          "name": "stdout",
          "text": [
            "[ 5  7  9 11 13 15 17 19 21 23]\n"
          ]
        },
        {
          "output_type": "execute_result",
          "data": {
            "text/plain": [
              "array([ 9, 11, 13])"
            ]
          },
          "metadata": {},
          "execution_count": 14
        }
      ]
    },
    {
      "cell_type": "code",
      "source": [
        "lst = [1,2,3,4,5]\n",
        "lst2 = lst[2:4]\n",
        "print(lst)\n",
        "print(lst2)\n",
        "lst2[0] = 1000\n",
        "print(lst)\n",
        "print(lst2)"
      ],
      "metadata": {
        "colab": {
          "base_uri": "https://localhost:8080/"
        },
        "id": "vLCLEOJfZe48",
        "outputId": "529fee51-f0bc-453f-d30e-5ef3dd35ef1e"
      },
      "execution_count": 15,
      "outputs": [
        {
          "output_type": "stream",
          "name": "stdout",
          "text": [
            "[1, 2, 3, 4, 5]\n",
            "[3, 4]\n",
            "[1, 2, 3, 4, 5]\n",
            "[1000, 4]\n"
          ]
        }
      ]
    },
    {
      "cell_type": "code",
      "source": [
        "arr = np.array([1,2,3,4,5])\n",
        "arr2 = arr[2:4]\n",
        "print(arr)\n",
        "print(arr2)\n",
        "arr2[0] = 1000\n",
        "print(arr)\n",
        "print(arr2)"
      ],
      "metadata": {
        "colab": {
          "base_uri": "https://localhost:8080/"
        },
        "id": "pyAqOgOhZhmw",
        "outputId": "ba5113f9-86b9-498c-83ba-b246fead27ec"
      },
      "execution_count": 16,
      "outputs": [
        {
          "output_type": "stream",
          "name": "stdout",
          "text": [
            "[1 2 3 4 5]\n",
            "[3 4]\n",
            "[   1    2 1000    4    5]\n",
            "[1000    4]\n"
          ]
        }
      ]
    },
    {
      "cell_type": "markdown",
      "source": [
        "copy create aa rite karai->\n"
      ],
      "metadata": {
        "id": "7ZOuOkMFZmtR"
      }
    },
    {
      "cell_type": "code",
      "source": [
        "arr = np.array([1,2,3,4,5])\n",
        "arr2 = arr[2:4].copy()\n",
        "print(arr)\n",
        "print(arr2)\n",
        "arr2[0] = 1000\n",
        "print(arr)\n",
        "print(arr2)"
      ],
      "metadata": {
        "colab": {
          "base_uri": "https://localhost:8080/"
        },
        "id": "ueObf5YEZjiJ",
        "outputId": "c1e6e59c-0b92-49ca-bff1-2d37721abb96"
      },
      "execution_count": 17,
      "outputs": [
        {
          "output_type": "stream",
          "name": "stdout",
          "text": [
            "[1 2 3 4 5]\n",
            "[3 4]\n",
            "[1 2 3 4 5]\n",
            "[1000    4]\n"
          ]
        }
      ]
    },
    {
      "cell_type": "markdown",
      "source": [
        "2D array"
      ],
      "metadata": {
        "id": "txrRI2U0cevQ"
      }
    },
    {
      "cell_type": "code",
      "source": [
        "ar=np.array([[1,2,3],[4,5,6],[7,8,9]])\n",
        "ar"
      ],
      "metadata": {
        "colab": {
          "base_uri": "https://localhost:8080/"
        },
        "id": "duDR_7NkZl-H",
        "outputId": "23732cb6-70a7-4486-ad7e-132797994b76"
      },
      "execution_count": 18,
      "outputs": [
        {
          "output_type": "execute_result",
          "data": {
            "text/plain": [
              "array([[1, 2, 3],\n",
              "       [4, 5, 6],\n",
              "       [7, 8, 9]])"
            ]
          },
          "metadata": {},
          "execution_count": 18
        }
      ]
    },
    {
      "cell_type": "code",
      "source": [
        "arr"
      ],
      "metadata": {
        "colab": {
          "base_uri": "https://localhost:8080/"
        },
        "id": "wl2wBza0chT4",
        "outputId": "01f00256-b38d-4b42-d031-a793fd2faffe"
      },
      "execution_count": 22,
      "outputs": [
        {
          "output_type": "execute_result",
          "data": {
            "text/plain": [
              "array([[1, 2, 3],\n",
              "       [4, 5, 6],\n",
              "       [7, 8, 9]])"
            ]
          },
          "metadata": {},
          "execution_count": 22
        }
      ]
    },
    {
      "cell_type": "code",
      "source": [
        "ar[::-1,::-1]"
      ],
      "metadata": {
        "colab": {
          "base_uri": "https://localhost:8080/"
        },
        "id": "1Rd4J45UbVu5",
        "outputId": "c7162c1e-5de3-448f-e169-49997826eaed"
      },
      "execution_count": 19,
      "outputs": [
        {
          "output_type": "execute_result",
          "data": {
            "text/plain": [
              "array([[9, 8, 7],\n",
              "       [6, 5, 4],\n",
              "       [3, 2, 1]])"
            ]
          },
          "metadata": {},
          "execution_count": 19
        }
      ]
    },
    {
      "cell_type": "markdown",
      "source": [
        "2d array\n"
      ],
      "metadata": {
        "id": "FNnB7UBOcZJN"
      }
    },
    {
      "cell_type": "code",
      "source": [
        "arr = np.array([[1,2,3],[4,5,6],[7,8,9]])"
      ],
      "metadata": {
        "id": "yPQxqdOnbZ73"
      },
      "execution_count": 20,
      "outputs": []
    },
    {
      "cell_type": "code",
      "source": [
        "arr"
      ],
      "metadata": {
        "colab": {
          "base_uri": "https://localhost:8080/"
        },
        "id": "T79EAulTcbga",
        "outputId": "6c6121db-b683-4b04-d1f2-88e69c01125c"
      },
      "execution_count": 21,
      "outputs": [
        {
          "output_type": "execute_result",
          "data": {
            "text/plain": [
              "array([[1, 2, 3],\n",
              "       [4, 5, 6],\n",
              "       [7, 8, 9]])"
            ]
          },
          "metadata": {},
          "execution_count": 21
        }
      ]
    },
    {
      "cell_type": "code",
      "source": [
        "\n",
        "#3D array (OneS)\n",
        "tdim=np.ones((2,3,6))\n",
        "tdim.shape\n",
        "tdim.size\n",
        "tdim.ndim"
      ],
      "metadata": {
        "colab": {
          "base_uri": "https://localhost:8080/"
        },
        "id": "t2KUI-hvcc_1",
        "outputId": "025c50bb-0281-44c3-f645-685306dbde9a"
      },
      "execution_count": 29,
      "outputs": [
        {
          "output_type": "execute_result",
          "data": {
            "text/plain": [
              "3"
            ]
          },
          "metadata": {},
          "execution_count": 29
        }
      ]
    },
    {
      "cell_type": "markdown",
      "source": [
        "MOre function in python"
      ],
      "metadata": {
        "id": "-FNwlFx9jJ9H"
      }
    },
    {
      "cell_type": "code",
      "source": [
        "arr=np.arange(1,30,3)\n",
        "arr"
      ],
      "metadata": {
        "colab": {
          "base_uri": "https://localhost:8080/"
        },
        "id": "MSYdSkUZcp-c",
        "outputId": "dfc5d51b-02c2-438f-ebe5-d3410474c74b"
      },
      "execution_count": 37,
      "outputs": [
        {
          "output_type": "execute_result",
          "data": {
            "text/plain": [
              "array([ 1,  4,  7, 10, 13, 16, 19, 22, 25, 28])"
            ]
          },
          "metadata": {},
          "execution_count": 37
        }
      ]
    },
    {
      "cell_type": "markdown",
      "source": [
        ""
      ],
      "metadata": {
        "id": "qsDJ-RpwjIjM"
      }
    },
    {
      "cell_type": "code",
      "source": [
        "np.random.permutation(arr)"
      ],
      "metadata": {
        "colab": {
          "base_uri": "https://localhost:8080/"
        },
        "id": "9cH8sHF3izPx",
        "outputId": "a2f279ba-893b-49c3-ff61-d6441cccd74f"
      },
      "execution_count": 38,
      "outputs": [
        {
          "output_type": "execute_result",
          "data": {
            "text/plain": [
              "array([ 4, 16, 13, 28, 10,  1, 19,  7, 22, 25])"
            ]
          },
          "metadata": {},
          "execution_count": 38
        }
      ]
    },
    {
      "cell_type": "code",
      "source": [
        "np.random.randint(10,36)"
      ],
      "metadata": {
        "colab": {
          "base_uri": "https://localhost:8080/"
        },
        "id": "dlGlHYwnjAt1",
        "outputId": "6d6791f3-05df-4925-8878-8e1e0e74ae77"
      },
      "execution_count": 40,
      "outputs": [
        {
          "output_type": "execute_result",
          "data": {
            "text/plain": [
              "18"
            ]
          },
          "metadata": {},
          "execution_count": 40
        }
      ]
    },
    {
      "cell_type": "code",
      "source": [
        "arr=np.random.randn(1000)"
      ],
      "metadata": {
        "id": "k43BEGHSjWlu"
      },
      "execution_count": 41,
      "outputs": []
    },
    {
      "cell_type": "code",
      "source": [
        "import matplotlib.pyplot as plt\n",
        "\n",
        "plt.hist(arr, bins = 1000)\n",
        "plt.show()"
      ],
      "metadata": {
        "colab": {
          "base_uri": "https://localhost:8080/",
          "height": 265
        },
        "id": "8Fpsu3n8jhc0",
        "outputId": "4b58ce07-4b7c-4a09-eded-f2e09041bb74"
      },
      "execution_count": 43,
      "outputs": [
        {
          "output_type": "display_data",
          "data": {
            "image/png": "[encoded data removed]",
            "text/plain": [
              "<Figure size 432x288 with 1 Axes>"
            ]
          },
          "metadata": {
            "needs_background": "light"
          }
        }
      ]
    },
    {
      "cell_type": "code",
      "source": [
        "arr=np.linspace(10,300,100)"
      ],
      "metadata": {
        "id": "VHCT3tvEjknI"
      },
      "execution_count": 44,
      "outputs": []
    },
    {
      "cell_type": "code",
      "source": [
        "arr"
      ],
      "metadata": {
        "colab": {
          "base_uri": "https://localhost:8080/"
        },
        "id": "cHh2jkqCjwLY",
        "outputId": "2d204965-a9a4-4aa4-804b-2b347d02d71f"
      },
      "execution_count": 45,
      "outputs": [
        {
          "output_type": "execute_result",
          "data": {
            "text/plain": [
              "array([ 10.        ,  12.92929293,  15.85858586,  18.78787879,\n",
              "        21.71717172,  24.64646465,  27.57575758,  30.50505051,\n",
              "        33.43434343,  36.36363636,  39.29292929,  42.22222222,\n",
              "        45.15151515,  48.08080808,  51.01010101,  53.93939394,\n",
              "        56.86868687,  59.7979798 ,  62.72727273,  65.65656566,\n",
              "        68.58585859,  71.51515152,  74.44444444,  77.37373737,\n",
              "        80.3030303 ,  83.23232323,  86.16161616,  89.09090909,\n",
              "        92.02020202,  94.94949495,  97.87878788, 100.80808081,\n",
              "       103.73737374, 106.66666667, 109.5959596 , 112.52525253,\n",
              "       115.45454545, 118.38383838, 121.31313131, 124.24242424,\n",
              "       127.17171717, 130.1010101 , 133.03030303, 135.95959596,\n",
              "       138.88888889, 141.81818182, 144.74747475, 147.67676768,\n",
              "       150.60606061, 153.53535354, 156.46464646, 159.39393939,\n",
              "       162.32323232, 165.25252525, 168.18181818, 171.11111111,\n",
              "       174.04040404, 176.96969697, 179.8989899 , 182.82828283,\n",
              "       185.75757576, 188.68686869, 191.61616162, 194.54545455,\n",
              "       197.47474747, 200.4040404 , 203.33333333, 206.26262626,\n",
              "       209.19191919, 212.12121212, 215.05050505, 217.97979798,\n",
              "       220.90909091, 223.83838384, 226.76767677, 229.6969697 ,\n",
              "       232.62626263, 235.55555556, 238.48484848, 241.41414141,\n",
              "       244.34343434, 247.27272727, 250.2020202 , 253.13131313,\n",
              "       256.06060606, 258.98989899, 261.91919192, 264.84848485,\n",
              "       267.77777778, 270.70707071, 273.63636364, 276.56565657,\n",
              "       279.49494949, 282.42424242, 285.35353535, 288.28282828,\n",
              "       291.21212121, 294.14141414, 297.07070707, 300.        ])"
            ]
          },
          "metadata": {},
          "execution_count": 45
        }
      ]
    },
    {
      "cell_type": "code",
      "source": [
        "arr.size"
      ],
      "metadata": {
        "colab": {
          "base_uri": "https://localhost:8080/"
        },
        "id": "P5qP5BTdjxzZ",
        "outputId": "c2305c79-0cf4-4917-b793-fd33816db926"
      },
      "execution_count": 46,
      "outputs": [
        {
          "output_type": "execute_result",
          "data": {
            "text/plain": [
              "100"
            ]
          },
          "metadata": {},
          "execution_count": 46
        }
      ]
    },
    {
      "cell_type": "code",
      "source": [
        "print(arr[6]-arr[5])\n",
        "print(arr[40]-arr[39])"
      ],
      "metadata": {
        "colab": {
          "base_uri": "https://localhost:8080/"
        },
        "id": "oXJB1X9Fj14W",
        "outputId": "85a946e2-1496-4672-b721-20094f7f2a08"
      },
      "execution_count": 47,
      "outputs": [
        {
          "output_type": "stream",
          "name": "stdout",
          "text": [
            "2.929292929292931\n",
            "2.9292929292929273\n"
          ]
        }
      ]
    },
    {
      "cell_type": "code",
      "source": [
        "arr=np.array([True,False,True,False,True,False])"
      ],
      "metadata": {
        "id": "TV3-U9LRj72Y"
      },
      "execution_count": 50,
      "outputs": []
    },
    {
      "cell_type": "code",
      "source": [
        "np.where(arr,100,-100)"
      ],
      "metadata": {
        "colab": {
          "base_uri": "https://localhost:8080/"
        },
        "id": "KXpWa22zj-ve",
        "outputId": "3a8707e8-6a6c-44fc-b86d-1727a63693a5"
      },
      "execution_count": 52,
      "outputs": [
        {
          "output_type": "execute_result",
          "data": {
            "text/plain": [
              "array([ 100, -100,  100, -100,  100, -100])"
            ]
          },
          "metadata": {},
          "execution_count": 52
        }
      ]
    },
    {
      "cell_type": "code",
      "source": [
        "arr=np.arange(1,30)"
      ],
      "metadata": {
        "id": "m_v74YXzkYOT"
      },
      "execution_count": 54,
      "outputs": []
    },
    {
      "cell_type": "code",
      "source": [
        "np.where(arr<5,True,False)"
      ],
      "metadata": {
        "colab": {
          "base_uri": "https://localhost:8080/"
        },
        "id": "ObTuRAzvkpHj",
        "outputId": "88c8d07b-53b7-4a70-90ad-05f76d7e4f92"
      },
      "execution_count": 56,
      "outputs": [
        {
          "output_type": "execute_result",
          "data": {
            "text/plain": [
              "array([ True,  True,  True,  True, False, False, False, False, False,\n",
              "       False, False, False, False, False, False, False, False, False,\n",
              "       False, False, False, False, False, False, False, False, False,\n",
              "       False, False])"
            ]
          },
          "metadata": {},
          "execution_count": 56
        },
        {
          "output_type": "execute_result",
          "data": {
            "text/plain": [
              "array([ True,  True,  True,  True, False, False, False, False, False,\n",
              "       False, False, False, False, False, False, False, False, False,\n",
              "       False, False, False, False, False, False, False, False, False,\n",
              "       False, False])"
            ]
          },
          "metadata": {},
          "execution_count": 57
        }
      ]
    },
    {
      "cell_type": "code",
      "source": [
        ""
      ],
      "metadata": {
        "id": "WhhjCrTjk1_M"
      },
      "execution_count": null,
      "outputs": []
    }
  ]
}